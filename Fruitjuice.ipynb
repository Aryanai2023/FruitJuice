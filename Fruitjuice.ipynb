{
  "nbformat": 4,
  "nbformat_minor": 0,
  "metadata": {
    "colab": {
      "provenance": [],
      "authorship_tag": "ABX9TyP8xUNwzZlLfk4Jvh2r7S1J",
      "include_colab_link": true
    },
    "kernelspec": {
      "name": "python3",
      "display_name": "Python 3"
    },
    "language_info": {
      "name": "python"
    }
  },
  "cells": [
    {
      "cell_type": "markdown",
      "metadata": {
        "id": "view-in-github",
        "colab_type": "text"
      },
      "source": [
        "<a href=\"https://colab.research.google.com/github/Aryanai2023/FruitJuice/blob/main/Fruitjuice.ipynb\" target=\"_parent\"><img src=\"https://colab.research.google.com/assets/colab-badge.svg\" alt=\"Open In Colab\"/></a>"
      ]
    },
    {
      "cell_type": "code",
      "execution_count": 1,
      "metadata": {
        "colab": {
          "base_uri": "https://localhost:8080/"
        },
        "id": "u2ipyhCqzxuo",
        "outputId": "a5910c69-3b45-4829-f95b-3f135573c372"
      },
      "outputs": [
        {
          "output_type": "stream",
          "name": "stdout",
          "text": [
            "Welcome to the Fruit Juice Shop!\n",
            "Menu:\n",
            "Apple: $2.50\n",
            "Orange: $2.00\n",
            "Banana: $1.75\n",
            "Pineapple: $3.00\n",
            "Grape: $2.25\n",
            "Enter the fruit juice you want (or 'done' to finish): grape\n",
            "Added Grape juice to your order. Current total: $2.25\n",
            "Enter the fruit juice you want (or 'done' to finish): apple\n",
            "Added Apple juice to your order. Current total: $4.75\n",
            "Enter the fruit juice you want (or 'done' to finish): done\n",
            "Your total bill is $4.75. Thank you for visiting!\n"
          ]
        }
      ],
      "source": [
        "def display_menu(menu):\n",
        "    print(\"Menu:\")\n",
        "    for item, price in menu.items():\n",
        "        print(f\"{item.capitalize()}: ${price:.2f}\")\n",
        "\n",
        "def take_orders(menu):\n",
        "    total_cost = 0.0\n",
        "    while True:\n",
        "        choice = input(\"Enter the fruit juice you want (or 'done' to finish): \").lower()\n",
        "        if choice == \"done\":\n",
        "            break\n",
        "        elif choice in menu:\n",
        "            total_cost += menu[choice]\n",
        "            print(f\"Added {choice.capitalize()} juice to your order. Current total: ${total_cost:.2f}\")\n",
        "        else:\n",
        "            print(\"Invalid choice. Please select from the menu.\")\n",
        "    return total_cost\n",
        "\n",
        "def display_bill(total_cost):\n",
        "    print(f\"Your total bill is ${total_cost:.2f}. Thank you for visiting!\")\n",
        "\n",
        "def fruit_juice_shop():\n",
        "    menu = {\n",
        "        \"apple\": 2.50,\n",
        "        \"orange\": 2.00,\n",
        "        \"banana\": 1.75,\n",
        "        \"pineapple\": 3.00,\n",
        "        \"grape\": 2.25\n",
        "    }\n",
        "\n",
        "    print(\"Welcome to the Fruit Juice Shop!\")\n",
        "    display_menu(menu)\n",
        "    total_cost = take_orders(menu)\n",
        "    display_bill(total_cost)\n",
        "\n",
        "if __name__ == \"__main__\":\n",
        "    fruit_juice_shop()"
      ]
    }
  ]
}