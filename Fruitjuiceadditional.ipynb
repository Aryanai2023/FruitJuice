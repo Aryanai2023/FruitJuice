{
  "nbformat": 4,
  "nbformat_minor": 0,
  "metadata": {
    "colab": {
      "provenance": [],
      "authorship_tag": "ABX9TyO7fHV/gFWeehCD0CJrpnWG",
      "include_colab_link": true
    },
    "kernelspec": {
      "name": "python3",
      "display_name": "Python 3"
    },
    "language_info": {
      "name": "python"
    }
  },
  "cells": [
    {
      "cell_type": "markdown",
      "metadata": {
        "id": "view-in-github",
        "colab_type": "text"
      },
      "source": [
        "<a href=\"https://colab.research.google.com/github/Aryanai2023/FruitJuice/blob/main/Fruitjuiceadditional.ipynb\" target=\"_parent\"><img src=\"https://colab.research.google.com/assets/colab-badge.svg\" alt=\"Open In Colab\"/></a>"
      ]
    },
    {
      "cell_type": "code",
      "execution_count": 1,
      "metadata": {
        "colab": {
          "base_uri": "https://localhost:8080/"
        },
        "id": "52AqRjzd8BtX",
        "outputId": "7a1c9814-8d2f-47a1-b424-aa6734285ce4"
      },
      "outputs": [
        {
          "output_type": "stream",
          "name": "stdout",
          "text": [
            "Welcome to the Fruit Juice Shop!\n",
            "Menu:\n",
            "Apple: $2.50\n",
            "Orange: $2.00\n",
            "Banana: $1.75\n",
            "Pineapple: $3.00\n",
            "Grape: $2.25\n",
            "Enter the fruit juice you want (or 'done' to finish): apple\n",
            "Added Apple juice to your order. Current total: $2.50\n",
            "Enter the fruit juice you want (or 'done' to finish): orange\n",
            "Added Orange juice to your order. Current total: $4.50\n",
            "Enter the fruit juice you want (or 'done' to finish): done\n",
            "Your order:\n",
            "Apple x1\n",
            "Orange x1\n",
            "Total bill: $4.50. Thank you for visiting!\n",
            "Special Offers:\n",
            "Free Banana juice with every order over $10!\n",
            "Flavor Suggestions:\n",
            "Add a pinch of ginger to your Orange juice for an extra kick!\n",
            "We would love to hear your feedback! How was your experience today? Great\n",
            "Thank you for your feedback!\n"
          ]
        }
      ],
      "source": [
        "import random\n",
        "\n",
        "def display_menu(menu):\n",
        "    print(\"Menu:\")\n",
        "    for item, price in menu.items():\n",
        "        print(f\"{item.capitalize()}: ${price:.2f}\")\n",
        "\n",
        "def take_orders(menu):\n",
        "    total_cost = 0.0\n",
        "    order = {}\n",
        "    while True:\n",
        "        choice = input(\"Enter the fruit juice you want (or 'done' to finish): \").lower()\n",
        "        if choice == \"done\":\n",
        "            break\n",
        "        elif choice in menu:\n",
        "            if choice in order:\n",
        "                order[choice] += 1\n",
        "            else:\n",
        "                order[choice] = 1\n",
        "            total_cost += menu[choice]\n",
        "            print(f\"Added {choice.capitalize()} juice to your order. Current total: ${total_cost:.2f}\")\n",
        "        else:\n",
        "            print(\"Invalid choice. Please select from the menu.\")\n",
        "    return order, total_cost\n",
        "\n",
        "def display_bill(order, total_cost):\n",
        "    print(\"Your order:\")\n",
        "    for item, quantity in order.items():\n",
        "        print(f\"{item.capitalize()} x{quantity}\")\n",
        "    print(f\"Total bill: ${total_cost:.2f}. Thank you for visiting!\")\n",
        "\n",
        "def special_offers():\n",
        "    offers = [\n",
        "        \"Buy one, get one free on all fruit juices!\",\n",
        "        \"Get a 10% discount on Pineapple juice!\",\n",
        "        \"Free Banana juice with every order over $10!\",\n",
        "    ]\n",
        "    print(\"Special Offers:\")\n",
        "    print(random.choice(offers))\n",
        "\n",
        "def flavor_suggestions():\n",
        "    flavors = [\n",
        "        \"Add a pinch of ginger to your Orange juice for an extra kick!\",\n",
        "        \"Try adding honey to your Apple juice for a sweet twist!\",\n",
        "        \"Combine Pineapple and Grape juices for a tropical blend!\",\n",
        "    ]\n",
        "    print(\"Flavor Suggestions:\")\n",
        "    print(random.choice(flavors))\n",
        "\n",
        "def feedback():\n",
        "    feedback = input(\"We would love to hear your feedback! How was your experience today? \")\n",
        "    print(\"Thank you for your feedback!\")\n",
        "\n",
        "def fruit_juice_shop():\n",
        "    menu = {\n",
        "        \"apple\": 2.50,\n",
        "        \"orange\": 2.00,\n",
        "        \"banana\": 1.75,\n",
        "        \"pineapple\": 3.00,\n",
        "        \"grape\": 2.25\n",
        "    }\n",
        "\n",
        "    print(\"Welcome to the Fruit Juice Shop!\")\n",
        "    display_menu(menu)\n",
        "    order, total_cost = take_orders(menu)\n",
        "    display_bill(order, total_cost)\n",
        "    special_offers()\n",
        "    flavor_suggestions()\n",
        "    feedback()\n",
        "\n",
        "if __name__ == \"__main__\":\n",
        "    fruit_juice_shop()"
      ]
    }
  ]
}